{
 "cells": [
  {
   "cell_type": "markdown",
   "metadata": {},
   "source": [
    "# Practical 5"
   ]
  },
  {
   "cell_type": "markdown",
   "metadata": {},
   "source": [
    "### Aim: To implement a Machine Learning Classification model using a K Nearest Neighbors  Classifier algorithm and enhance the model by K Fold and GridSearchCV cross-validation."
   ]
  },
  {
   "cell_type": "code",
   "execution_count": 66,
   "metadata": {},
   "outputs": [],
   "source": [
    "import numpy as np \n",
    "import pandas as pd \n",
    "from sklearn.neighbors import KNeighborsClassifier \n",
    "from sklearn.model_selection import train_test_split \n",
    "from sklearn.datasets import load_iris \n",
    "from sklearn.model_selection import train_test_split \n",
    "from sklearn.datasets import load_iris \n",
    "from sklearn.metrics import confusion_matrix,accuracy_score\n",
    "from sklearn.metrics import precision_recall_fscore_support\n",
    "from sklearn import metrics\n",
    "import matplotlib.pyplot as plt\n",
    "import seaborn as sns\n",
    "import plotly.express as px"
   ]
  },
  {
   "cell_type": "markdown",
   "metadata": {},
   "source": [
    "### Loading dataset"
   ]
  },
  {
   "cell_type": "code",
   "execution_count": 67,
   "metadata": {},
   "outputs": [],
   "source": [
    "data = pd.read_csv(r\"Practical5.csv\")\n",
    "X = data.iloc[:, [1, 2, 3, 4, 5, 6, 7]].values\n",
    "y = data.iloc[:, -1].values"
   ]
  },
  {
   "cell_type": "code",
   "execution_count": 68,
   "metadata": {},
   "outputs": [],
   "source": [
    "from sklearn.preprocessing import LabelEncoder\n",
    "le = LabelEncoder()\n",
    "X[:,0] = le.fit_transform(X[:,0])"
   ]
  },
  {
   "cell_type": "code",
   "execution_count": 69,
   "metadata": {},
   "outputs": [],
   "source": [
    "X_train, X_test, y_train, y_test = train_test_split( \n",
    "             X, y, test_size = 0.2, random_state=42)"
   ]
  },
  {
   "cell_type": "code",
   "execution_count": 70,
   "metadata": {},
   "outputs": [],
   "source": [
    "knn = KNeighborsClassifier(n_neighbors=7) "
   ]
  },
  {
   "cell_type": "code",
   "execution_count": 71,
   "metadata": {},
   "outputs": [
    {
     "data": {
      "text/html": [
       "<style>#sk-container-id-6 {color: black;background-color: white;}#sk-container-id-6 pre{padding: 0;}#sk-container-id-6 div.sk-toggleable {background-color: white;}#sk-container-id-6 label.sk-toggleable__label {cursor: pointer;display: block;width: 100%;margin-bottom: 0;padding: 0.3em;box-sizing: border-box;text-align: center;}#sk-container-id-6 label.sk-toggleable__label-arrow:before {content: \"▸\";float: left;margin-right: 0.25em;color: #696969;}#sk-container-id-6 label.sk-toggleable__label-arrow:hover:before {color: black;}#sk-container-id-6 div.sk-estimator:hover label.sk-toggleable__label-arrow:before {color: black;}#sk-container-id-6 div.sk-toggleable__content {max-height: 0;max-width: 0;overflow: hidden;text-align: left;background-color: #f0f8ff;}#sk-container-id-6 div.sk-toggleable__content pre {margin: 0.2em;color: black;border-radius: 0.25em;background-color: #f0f8ff;}#sk-container-id-6 input.sk-toggleable__control:checked~div.sk-toggleable__content {max-height: 200px;max-width: 100%;overflow: auto;}#sk-container-id-6 input.sk-toggleable__control:checked~label.sk-toggleable__label-arrow:before {content: \"▾\";}#sk-container-id-6 div.sk-estimator input.sk-toggleable__control:checked~label.sk-toggleable__label {background-color: #d4ebff;}#sk-container-id-6 div.sk-label input.sk-toggleable__control:checked~label.sk-toggleable__label {background-color: #d4ebff;}#sk-container-id-6 input.sk-hidden--visually {border: 0;clip: rect(1px 1px 1px 1px);clip: rect(1px, 1px, 1px, 1px);height: 1px;margin: -1px;overflow: hidden;padding: 0;position: absolute;width: 1px;}#sk-container-id-6 div.sk-estimator {font-family: monospace;background-color: #f0f8ff;border: 1px dotted black;border-radius: 0.25em;box-sizing: border-box;margin-bottom: 0.5em;}#sk-container-id-6 div.sk-estimator:hover {background-color: #d4ebff;}#sk-container-id-6 div.sk-parallel-item::after {content: \"\";width: 100%;border-bottom: 1px solid gray;flex-grow: 1;}#sk-container-id-6 div.sk-label:hover label.sk-toggleable__label {background-color: #d4ebff;}#sk-container-id-6 div.sk-serial::before {content: \"\";position: absolute;border-left: 1px solid gray;box-sizing: border-box;top: 0;bottom: 0;left: 50%;z-index: 0;}#sk-container-id-6 div.sk-serial {display: flex;flex-direction: column;align-items: center;background-color: white;padding-right: 0.2em;padding-left: 0.2em;position: relative;}#sk-container-id-6 div.sk-item {position: relative;z-index: 1;}#sk-container-id-6 div.sk-parallel {display: flex;align-items: stretch;justify-content: center;background-color: white;position: relative;}#sk-container-id-6 div.sk-item::before, #sk-container-id-6 div.sk-parallel-item::before {content: \"\";position: absolute;border-left: 1px solid gray;box-sizing: border-box;top: 0;bottom: 0;left: 50%;z-index: -1;}#sk-container-id-6 div.sk-parallel-item {display: flex;flex-direction: column;z-index: 1;position: relative;background-color: white;}#sk-container-id-6 div.sk-parallel-item:first-child::after {align-self: flex-end;width: 50%;}#sk-container-id-6 div.sk-parallel-item:last-child::after {align-self: flex-start;width: 50%;}#sk-container-id-6 div.sk-parallel-item:only-child::after {width: 0;}#sk-container-id-6 div.sk-dashed-wrapped {border: 1px dashed gray;margin: 0 0.4em 0.5em 0.4em;box-sizing: border-box;padding-bottom: 0.4em;background-color: white;}#sk-container-id-6 div.sk-label label {font-family: monospace;font-weight: bold;display: inline-block;line-height: 1.2em;}#sk-container-id-6 div.sk-label-container {text-align: center;}#sk-container-id-6 div.sk-container {/* jupyter's `normalize.less` sets `[hidden] { display: none; }` but bootstrap.min.css set `[hidden] { display: none !important; }` so we also need the `!important` here to be able to override the default hidden behavior on the sphinx rendered scikit-learn.org. See: https://github.com/scikit-learn/scikit-learn/issues/21755 */display: inline-block !important;position: relative;}#sk-container-id-6 div.sk-text-repr-fallback {display: none;}</style><div id=\"sk-container-id-6\" class=\"sk-top-container\"><div class=\"sk-text-repr-fallback\"><pre>KNeighborsClassifier(n_neighbors=7)</pre><b>In a Jupyter environment, please rerun this cell to show the HTML representation or trust the notebook. <br />On GitHub, the HTML representation is unable to render, please try loading this page with nbviewer.org.</b></div><div class=\"sk-container\" hidden><div class=\"sk-item\"><div class=\"sk-estimator sk-toggleable\"><input class=\"sk-toggleable__control sk-hidden--visually\" id=\"sk-estimator-id-6\" type=\"checkbox\" checked><label for=\"sk-estimator-id-6\" class=\"sk-toggleable__label sk-toggleable__label-arrow\">KNeighborsClassifier</label><div class=\"sk-toggleable__content\"><pre>KNeighborsClassifier(n_neighbors=7)</pre></div></div></div></div></div>"
      ],
      "text/plain": [
       "KNeighborsClassifier(n_neighbors=7)"
      ]
     },
     "execution_count": 71,
     "metadata": {},
     "output_type": "execute_result"
    }
   ],
   "source": [
    "knn.fit(X_train, y_train) "
   ]
  },
  {
   "cell_type": "code",
   "execution_count": 72,
   "metadata": {},
   "outputs": [
    {
     "name": "stdout",
     "output_type": "stream",
     "text": [
      "[0 0 0 0 1 1 0 0 1 1 0 1 0 0 0 1 0 0 1 0 1 0 0 0 1 1 0 0 0 0 1 1 1 1 0 0 1\n",
      " 1 0 1 0 1 1 1 0 1 0 0 0 1 0 1 1 0 0 0 1 0 0 1 1 0 0 0 0 1 0 1 0 1 1 0 0 0\n",
      " 0 1 0 0 0 0 1 0 0 0 0 1 1 0 0 0 0 0 0 1 1 0 1 0 1 0 0 0 0 1 1 0 0 1 0 1 0\n",
      " 1 0 1 1 0 1 0 0 0 0 0 0 0 0 1 0 1 1 1 1 0 0 1 1 0 0 1 1 0 0 0 0 1 0 0 0 0\n",
      " 1 1 0 0 0 0]\n"
     ]
    }
   ],
   "source": [
    "y_pred=knn.predict(X_test)\n",
    "print(knn.predict(X_test)) "
   ]
  },
  {
   "cell_type": "code",
   "execution_count": 73,
   "metadata": {},
   "outputs": [
    {
     "name": "stdout",
     "output_type": "stream",
     "text": [
      "[[76 23]\n",
      " [19 36]]\n"
     ]
    }
   ],
   "source": [
    "from sklearn.metrics import confusion_matrix  \n",
    "cm= confusion_matrix(y_test,y_pred) \n",
    "print(cm) "
   ]
  },
  {
   "cell_type": "code",
   "execution_count": 74,
   "metadata": {},
   "outputs": [
    {
     "data": {
      "image/png": "[encoded data removed]",
      "text/plain": [
       "<Figure size 800x600 with 1 Axes>"
      ]
     },
     "metadata": {},
     "output_type": "display_data"
    }
   ],
   "source": [
    "import seaborn as sns\n",
    "plt.figure(figsize=(8, 6))\n",
    "sns.heatmap(cm, annot=True, fmt='d', cbar=False)\n",
    "plt.title('Confusion Matrix')\n",
    "plt.xlabel('Predicted Labels')\n",
    "plt.ylabel('True Labels')\n",
    "plt.show()"
   ]
  },
  {
   "cell_type": "markdown",
   "metadata": {},
   "source": []
  },
  {
   "cell_type": "code",
   "execution_count": 75,
   "metadata": {},
   "outputs": [],
   "source": [
    "X_train, X_test, y_train, y_test = train_test_split( \n",
    "             X, y, test_size = 0.2, random_state=1)"
   ]
  },
  {
   "cell_type": "code",
   "execution_count": 76,
   "metadata": {},
   "outputs": [
    {
     "name": "stdout",
     "output_type": "stream",
     "text": [
      "[0 0 1 0 1 0 0 1 1 0 0 1 0 1 1 0 0 0 0 0 0 0 1 0 1 0 1 0 1 0 1 1 0 0 1 0 0\n",
      " 0 0 0 0 0 0 1 1 1 1 0 0 0 0 0 0 1 1 0 1 0 1 0 0 0 0 1 1 0 0 0 0 1 0 0 1 0\n",
      " 0 0 0]\n",
      "[[35 10]\n",
      " [16 16]]\n",
      "Precision: [0.68627451 0.61538462]\n",
      "Recall: [0.77777778 0.5       ]\n",
      "F1 Score: [0.72916667 0.55172414]\n",
      "[0 1 0 0 0 0 0 1 0 0 0 1 0 0 0 0 0 0 0 0 0 0 0 1 1 0 0 0 0 0 1 0 0 1 1 0 0\n",
      " 1 1 0 0 0 0 1 0 0 0 0 0 0 0 0 0 1 0 1 0 0 0 0 0 0 0 0 1 0 1 0 0 0 0 1 0 0\n",
      " 0 1 1]\n",
      "[[50  5]\n",
      " [ 9 13]]\n",
      "Precision: [0.84745763 0.72222222]\n",
      "Recall: [0.90909091 0.59090909]\n",
      "F1 Score: [0.87719298 0.65      ]\n",
      "[1 1 0 0 0 1 0 0 0 0 0 0 0 1 0 0 0 0 0 0 0 1 0 1 1 0 0 0 0 0 0 1 1 0 0 1 0\n",
      " 0 1 1 0 0 0 0 0 0 0 0 0 0 0 0 1 1 0 1 0 1 1 0 0 0 0 0 0 1 1 1 0 1 0 0 0 1\n",
      " 1 0 0]\n",
      "[[37  6]\n",
      " [17 17]]\n",
      "Precision: [0.68518519 0.73913043]\n",
      "Recall: [0.86046512 0.5       ]\n",
      "F1 Score: [0.7628866  0.59649123]\n",
      "[0 0 0 0 1 1 1 1 0 0 0 0 0 0 1 1 1 0 0 1 0 0 0 0 0 0 0 1 1 1 1 0 0 1 0 1 0\n",
      " 0 1 0 0 1 0 0 0 0 0 0 0 0 1 1 1 0 1 1 0 0 0 0 0 0 0 0 1 0 0 0 0 1 0 0 0 0\n",
      " 0 1 0]\n",
      "[[36 11]\n",
      " [17 13]]\n",
      "Precision: [0.67924528 0.54166667]\n",
      "Recall: [0.76595745 0.43333333]\n",
      "F1 Score: [0.72       0.48148148]\n",
      "[0 0 0 0 1 0 1 0 0 1 0 1 0 0 0 0 0 1 0 1 0 0 1 0 1 0 0 1 1 1 0 1 0 0 0 1 0\n",
      " 0 0 0 0 0 0 0 0 0 0 1 1 1 0 1 1 1 1 0 0 0 0 0 0 1 1 0 0 0 0 0 0 0 1 0 0 0\n",
      " 0 0 0]\n",
      "[[42  8]\n",
      " [12 15]]\n",
      "Precision: [0.77777778 0.65217391]\n",
      "Recall: [0.84       0.55555556]\n",
      "F1 Score: [0.80769231 0.6       ]\n",
      "[0 1 1 0 0 0 1 0 0 1 0 0 0 0 1 0 1 0 0 1 1 0 0 1 1 0 0 0 0 1 1 0 0 0 0 1 0\n",
      " 0 0 0 1 0 1 0 1 0 0 0 0 0 1 0 0 0 0 1 0 0 0 0 1 0 0 0 0 0 0 0 0 0 1 1 0 1\n",
      " 0 0 0]\n",
      "[[43  4]\n",
      " [12 18]]\n",
      "Precision: [0.78181818 0.81818182]\n",
      "Recall: [0.91489362 0.6       ]\n",
      "F1 Score: [0.84313725 0.69230769]\n",
      "[0 0 0 0 0 0 0 0 1 0 0 1 0 0 0 0 0 0 1 0 0 0 1 0 1 1 0 1 0 1 0 0 0 1 0 0 1\n",
      " 1 0 0 0 0 0 0 0 1 0 0 0 0 0 0 0 0 1 1 0 0 0 0 0 1 0 0 0 0 0 0 0 0 0 0 0 1\n",
      " 0 0 0]\n",
      "[[53 10]\n",
      " [ 8  6]]\n",
      "Precision: [0.86885246 0.375     ]\n",
      "Recall: [0.84126984 0.42857143]\n",
      "F1 Score: [0.85483871 0.4       ]\n",
      "[1 0 0 0 0 0 1 1 1 0 1 0 0 0 0 0 0 0 0 0 0 0 1 0 0 0 0 0 0 1 0 0 0 0 0 1 0\n",
      " 0 0 1 1 1 0 0 0 1 0 1 0 1 0 1 0 1 0 1 1 0 0 1 0 0 0 1 1 1 0 1 0 0 0 0 1 1\n",
      " 0 1 0]\n",
      "[[45  7]\n",
      " [ 6 19]]\n",
      "Precision: [0.88235294 0.73076923]\n",
      "Recall: [0.86538462 0.76      ]\n",
      "F1 Score: [0.87378641 0.74509804]\n",
      "[0 0 0 1 0 0 1 0 0 0 0 0 1 0 0 0 0 0 0 1 0 0 0 0 0 0 0 0 0 1 1 1 1 0 0 0 0\n",
      " 0 0 1 0 1 0 0 1 1 1 0 0 0 0 0 0 1 1 0 0 1 0 1 1 0 0 0 0 1 0 1 0 0 1 0 0 1\n",
      " 0 1]\n",
      "[[43  9]\n",
      " [10 14]]\n",
      "Precision: [0.81132075 0.60869565]\n",
      "Recall: [0.82692308 0.58333333]\n",
      "F1 Score: [0.81904762 0.59574468]\n",
      "[0 1 0 1 1 0 0 0 0 0 1 1 0 0 0 0 1 0 0 1 0 0 1 0 1 0 0 1 0 0 0 0 0 1 1 0 1\n",
      " 0 0 0 1 0 0 0 0 0 0 1 1 0 0 1 1 0 0 0 1 0 0 0 0 1 0 1 0 1 0 1 0 1 0 1 0 0\n",
      " 1 0]\n",
      "[[38  8]\n",
      " [12 18]]\n",
      "Precision: [0.76       0.69230769]\n",
      "Recall: [0.82608696 0.6       ]\n",
      "F1 Score: [0.79166667 0.64285714]\n"
     ]
    }
   ],
   "source": [
    "from sklearn.model_selection import KFold\n",
    "\n",
    "\n",
    "cv = KFold(n_splits=10)\n",
    "# perform cross-validation procedure\n",
    "for train_ix, test_ix in cv.split(X):\n",
    "    # split data\n",
    "    X_train, X_test = X[train_ix, :], X[test_ix, :]\n",
    "    y_train, y_test = y[train_ix], y[test_ix]\n",
    "    # fit and evaluate a model\n",
    "    knn = KNeighborsClassifier(n_neighbors=7)\n",
    "    knn.fit(X_train, y_train) \n",
    "    y_pred=knn.predict(X_test)\n",
    "    print(knn.predict(X_test))\n",
    "    from sklearn.metrics import confusion_matrix  \n",
    "    cm= confusion_matrix(y_test,y_pred) \n",
    "    print(cm)\n",
    "    from sklearn.metrics import precision_recall_fscore_support\n",
    "    precision, recall, f1_score,_ = precision_recall_fscore_support(y_test, y_pred)\n",
    "    print(\"Precision:\", precision)\n",
    "    print(\"Recall:\", recall)\n",
    "    print(\"F1 Score:\", f1_score) "
   ]
  },
  {
   "cell_type": "code",
   "execution_count": 77,
   "metadata": {},
   "outputs": [
    {
     "name": "stdout",
     "output_type": "stream",
     "text": [
      "Confusion Matrix:\n",
      "[[45  7]\n",
      " [16 18]]\n",
      "Precision: [0.73770492 0.72      ]\n",
      "Recall: [0.86538462 0.52941176]\n",
      "F1 Score: [0.79646018 0.61016949]\n",
      "Best parameters found by GridSearchCV: {'n_neighbors': 13}\n",
      "Confusion Matrix:\n",
      "[[49 10]\n",
      " [14 13]]\n",
      "Precision: [0.77777778 0.56521739]\n",
      "Recall: [0.83050847 0.48148148]\n",
      "F1 Score: [0.80327869 0.52      ]\n",
      "Best parameters found by GridSearchCV: {'n_neighbors': 21}\n",
      "Confusion Matrix:\n",
      "[[39 10]\n",
      " [20 17]]\n",
      "Precision: [0.66101695 0.62962963]\n",
      "Recall: [0.79591837 0.45945946]\n",
      "F1 Score: [0.72222222 0.53125   ]\n",
      "Best parameters found by GridSearchCV: {'n_neighbors': 11}\n",
      "Confusion Matrix:\n",
      "[[38 12]\n",
      " [19 16]]\n",
      "Precision: [0.66666667 0.57142857]\n",
      "Recall: [0.76       0.45714286]\n",
      "F1 Score: [0.71028037 0.50793651]\n",
      "Best parameters found by GridSearchCV: {'n_neighbors': 13}\n",
      "Confusion Matrix:\n",
      "[[51  2]\n",
      " [15 17]]\n",
      "Precision: [0.77272727 0.89473684]\n",
      "Recall: [0.96226415 0.53125   ]\n",
      "F1 Score: [0.85714286 0.66666667]\n",
      "Best parameters found by GridSearchCV: {'n_neighbors': 25}\n",
      "Confusion Matrix:\n",
      "[[56  9]\n",
      " [12  8]]\n",
      "Precision: [0.82352941 0.47058824]\n",
      "Recall: [0.86153846 0.4       ]\n",
      "F1 Score: [0.84210526 0.43243243]\n",
      "Best parameters found by GridSearchCV: {'n_neighbors': 17}\n",
      "Confusion Matrix:\n",
      "[[56  7]\n",
      " [ 9 13]]\n",
      "Precision: [0.86153846 0.65      ]\n",
      "Recall: [0.88888889 0.59090909]\n",
      "F1 Score: [0.875      0.61904762]\n",
      "Best parameters found by GridSearchCV: {'n_neighbors': 13}\n",
      "Confusion Matrix:\n",
      "[[48  9]\n",
      " [13 15]]\n",
      "Precision: [0.78688525 0.625     ]\n",
      "Recall: [0.84210526 0.53571429]\n",
      "F1 Score: [0.81355932 0.57692308]\n",
      "Best parameters found by GridSearchCV: {'n_neighbors': 11}\n",
      "Confusion Matrix:\n",
      "[[44  8]\n",
      " [13 20]]\n",
      "Precision: [0.77192982 0.71428571]\n",
      "Recall: [0.84615385 0.60606061]\n",
      "F1 Score: [0.80733945 0.6557377 ]\n",
      "Best parameters found by GridSearchCV: {'n_neighbors': 15}\n"
     ]
    }
   ],
   "source": [
    "from sklearn.model_selection import KFold, GridSearchCV\n",
    "from sklearn.neighbors import KNeighborsClassifier\n",
    "from sklearn.metrics import confusion_matrix, precision_recall_fscore_support\n",
    "\n",
    "# Define the KFold cross-validation\n",
    "cv = KFold(n_splits=9)\n",
    "\n",
    "param_grid = {'n_neighbors': list(range(1, 51, 2))}\n",
    "\n",
    "\n",
    "\n",
    "# Initialize the KNN classifier\n",
    "knn = KNeighborsClassifier()\n",
    "\n",
    "# Initialize GridSearchCV\n",
    "grid_search = GridSearchCV(estimator=knn, param_grid=param_grid, cv=cv, scoring='accuracy')\n",
    "\n",
    "# Perform cross-validation procedure with GridSearchCV\n",
    "for train_ix, test_ix in cv.split(X):\n",
    "    # Split data\n",
    "    X_train, X_test = X[train_ix, :], X[test_ix, :]\n",
    "    y_train, y_test = y[train_ix], y[test_ix]\n",
    "\n",
    "    # Fit model using GridSearchCV\n",
    "    grid_search.fit(X_train, y_train)\n",
    "\n",
    "    # Get the best KNN model found by GridSearchCV\n",
    "    best_knn = grid_search.best_estimator_\n",
    "\n",
    "    # Predict\n",
    "    y_pred = best_knn.predict(X_test)\n",
    "\n",
    "    # Evaluate\n",
    "    cm = confusion_matrix(y_test, y_pred)\n",
    "    precision, recall, f1_score, _ = precision_recall_fscore_support(y_test, y_pred)\n",
    "    \n",
    "    # Print results\n",
    "    print(\"Confusion Matrix:\")\n",
    "    print(cm)\n",
    "    print(\"Precision:\", precision)\n",
    "    print(\"Recall:\", recall)\n",
    "    print(\"F1 Score:\", f1_score)\n",
    "\n",
    "    # You can also access the best hyperparameters found\n",
    "    print(\"Best parameters found by GridSearchCV:\", grid_search.best_params_)\n"
   ]
  }
 ],
 "metadata": {
  "kernelspec": {
   "display_name": "Python 3",
   "language": "python",
   "name": "python3"
  },
  "language_info": {
   "codemirror_mode": {
    "name": "ipython",
    "version": 3
   },
   "file_extension": ".py",
   "mimetype": "text/x-python",
   "name": "python",
   "nbconvert_exporter": "python",
   "pygments_lexer": "ipython3",
   "version": "3.10.9"
  }
 },
 "nbformat": 4,
 "nbformat_minor": 2
}
