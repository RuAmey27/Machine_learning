{
 "cells": [
  {
   "cell_type": "markdown",
   "id": "a6a94353",
   "metadata": {},
   "source": [
    "# PRACTICAL NO 1"
   ]
  },
  {
   "cell_type": "markdown",
   "id": "e41239c5",
   "metadata": {},
   "source": [
    "Aim: Extract the data from database using python and demonstrate various data pre-processing techniques for a given dataset"
   ]
  },
  {
   "cell_type": "code",
   "execution_count": 4,
   "id": "860cb4c6",
   "metadata": {},
   "outputs": [],
   "source": [
    "%matplotlib inline\n",
    "import numpy as np\n",
    "import pandas as pd\n",
    "import matplotlib.pyplot as plt\n",
    "import seaborn as sns\n",
    "import sklearn"
   ]
  },
  {
   "cell_type": "markdown",
   "id": "3083513a",
   "metadata": {},
   "source": [
    "Create a random dataset"
   ]
  },
  {
   "cell_type": "code",
   "execution_count": 55,
   "id": "d2ca97a5",
   "metadata": {},
   "outputs": [],
   "source": [
    "\n",
    "np.random.seed(42)\n",
    "data = {\n",
    "    'A': np.random.randn(5),\n",
    "    'B': [1, 2, np.nan, 4, 5],\n",
    "    'C': ['foo', 'bar', 'baz', 'qux', 'quux'],\n",
    "    'D': [True, False, True, False, True]\n",
    "}"
   ]
  },
  {
   "cell_type": "markdown",
   "id": "fb9b4ef5",
   "metadata": {},
   "source": [
    "Create a DataFrame from the dictionary"
   ]
  },
  {
   "cell_type": "code",
   "execution_count": 56,
   "id": "c81d8254",
   "metadata": {},
   "outputs": [],
   "source": [
    "df = pd.DataFrame(data)"
   ]
  },
  {
   "cell_type": "markdown",
   "id": "e474325f",
   "metadata": {},
   "source": [
    "Display the original dataset"
   ]
  },
  {
   "cell_type": "code",
   "execution_count": 57,
   "id": "a1f3e2fb",
   "metadata": {},
   "outputs": [
    {
     "name": "stdout",
     "output_type": "stream",
     "text": [
      "Original Dataset:\n",
      "          A    B     C      D\n",
      "0  0.496714  1.0   foo   True\n",
      "1 -0.138264  2.0   bar  False\n",
      "2  0.647689  NaN   baz   True\n",
      "3  1.523030  4.0   qux  False\n",
      "4 -0.234153  5.0  quux   True\n"
     ]
    }
   ],
   "source": [
    "print(\"Original Dataset:\")\n",
    "print(df)"
   ]
  },
  {
   "cell_type": "markdown",
   "id": "759c278f",
   "metadata": {},
   "source": [
    "Export data to a CSV file"
   ]
  },
  {
   "cell_type": "code",
   "execution_count": 58,
   "id": "c218d58c",
   "metadata": {},
   "outputs": [],
   "source": [
    "df.to_csv('random_dataset.csv', index=False)"
   ]
  },
  {
   "cell_type": "markdown",
   "id": "13632fd3",
   "metadata": {},
   "source": [
    "# Simulate extracting data from a database\n",
    "Read data from the CSV file"
   ]
  },
  {
   "cell_type": "code",
   "execution_count": 59,
   "id": "e9c07cfb",
   "metadata": {},
   "outputs": [],
   "source": [
    "df_from_csv = pd.read_csv('random_dataset.csv')"
   ]
  },
  {
   "cell_type": "markdown",
   "id": "ea125874",
   "metadata": {},
   "source": [
    "Display the extracted dataset"
   ]
  },
  {
   "cell_type": "code",
   "execution_count": 60,
   "id": "17565d89",
   "metadata": {},
   "outputs": [
    {
     "name": "stdout",
     "output_type": "stream",
     "text": [
      "\n",
      "Dataset Extracted from CSV:\n",
      "          A    B     C      D\n",
      "0  0.496714  1.0   foo   True\n",
      "1 -0.138264  2.0   bar  False\n",
      "2  0.647689  NaN   baz   True\n",
      "3  1.523030  4.0   qux  False\n",
      "4 -0.234153  5.0  quux   True\n"
     ]
    }
   ],
   "source": [
    "print(\"\\nDataset Extracted from CSV:\")\n",
    "print(df_from_csv)"
   ]
  },
  {
   "cell_type": "markdown",
   "id": "b7ba090a",
   "metadata": {},
   "source": [
    "# Data Pre-processing Techniques"
   ]
  },
  {
   "cell_type": "markdown",
   "id": "472db129",
   "metadata": {},
   "source": [
    "1. Check for missing values"
   ]
  },
  {
   "cell_type": "code",
   "execution_count": 61,
   "id": "0dba2ab2",
   "metadata": {},
   "outputs": [
    {
     "name": "stdout",
     "output_type": "stream",
     "text": [
      "Isnull:\n",
      "        A      B      C      D\n",
      "0  False  False  False  False\n",
      "1  False  False  False  False\n",
      "2  False   True  False  False\n",
      "3  False  False  False  False\n",
      "4  False  False  False  False\n"
     ]
    }
   ],
   "source": [
    "print(\"Isnull:\\n\", df_from_csv.isnull())"
   ]
  },
  {
   "cell_type": "markdown",
   "id": "71dec281",
   "metadata": {},
   "source": [
    "2. Check for non-missing values"
   ]
  },
  {
   "cell_type": "code",
   "execution_count": 62,
   "id": "91da8583",
   "metadata": {},
   "outputs": [
    {
     "name": "stdout",
     "output_type": "stream",
     "text": [
      "\n",
      "Notnull:\n",
      "       A      B     C     D\n",
      "0  True   True  True  True\n",
      "1  True   True  True  True\n",
      "2  True  False  True  True\n",
      "3  True   True  True  True\n",
      "4  True   True  True  True\n"
     ]
    }
   ],
   "source": [
    "print(\"\\nNotnull:\\n\", df_from_csv.notnull())"
   ]
  },
  {
   "cell_type": "code",
   "execution_count": 63,
   "id": "8637a268",
   "metadata": {},
   "outputs": [
    {
     "name": "stdout",
     "output_type": "stream",
     "text": [
      "\n",
      "Notnull:\n",
      "       A      B     C     D\n",
      "0  True   True  True  True\n",
      "1  True   True  True  True\n",
      "2  True  False  True  True\n",
      "3  True   True  True  True\n",
      "4  True   True  True  True\n"
     ]
    }
   ],
   "source": [
    "print(\"\\nNotnull:\\n\", df_from_csv.notnull())"
   ]
  },
  {
   "cell_type": "markdown",
   "id": "056addb6",
   "metadata": {},
   "source": [
    "3. Drop rows with missing values"
   ]
  },
  {
   "cell_type": "code",
   "execution_count": 64,
   "id": "8e4d9554",
   "metadata": {},
   "outputs": [
    {
     "name": "stdout",
     "output_type": "stream",
     "text": [
      "\n",
      "Dropna:\n",
      "           A    B     C      D\n",
      "0  0.496714  1.0   foo   True\n",
      "1 -0.138264  2.0   bar  False\n",
      "3  1.523030  4.0   qux  False\n",
      "4 -0.234153  5.0  quux   True\n"
     ]
    }
   ],
   "source": [
    "df_dropna = df_from_csv.dropna()\n",
    "print(\"\\nDropna:\\n\", df_dropna)"
   ]
  },
  {
   "cell_type": "markdown",
   "id": "c3f9c0d4",
   "metadata": {},
   "source": [
    "4. Fill missing values with a specific value"
   ]
  },
  {
   "cell_type": "code",
   "execution_count": 65,
   "id": "7c7d8610",
   "metadata": {},
   "outputs": [
    {
     "name": "stdout",
     "output_type": "stream",
     "text": [
      "\n",
      "Fillna:\n",
      "           A    B     C      D\n",
      "0  0.496714  1.0   foo   True\n",
      "1 -0.138264  2.0   bar  False\n",
      "2  0.647689  0.0   baz   True\n",
      "3  1.523030  4.0   qux  False\n",
      "4 -0.234153  5.0  quux   True\n"
     ]
    }
   ],
   "source": [
    "df_fillna = df_from_csv.fillna(0)\n",
    "print(\"\\nFillna:\\n\", df_fillna)"
   ]
  },
  {
   "cell_type": "markdown",
   "id": "867245ae",
   "metadata": {},
   "source": [
    "5. Replace values with another value"
   ]
  },
  {
   "cell_type": "code",
   "execution_count": 66,
   "id": "7726149c",
   "metadata": {},
   "outputs": [
    {
     "name": "stdout",
     "output_type": "stream",
     "text": [
      "\n",
      "Replace:\n",
      "           A    B               C      D\n",
      "0  0.496714  1.0             foo   True\n",
      "1 -0.138264  2.0             bar  False\n",
      "2  0.647689  NaN  replaced_value   True\n",
      "3  1.523030  4.0             qux  False\n",
      "4 -0.234153  5.0            quux   True\n"
     ]
    }
   ],
   "source": [
    "df_replace = df_from_csv.replace({'baz': 'replaced_value'})\n",
    "print(\"\\nReplace:\\n\", df_replace)"
   ]
  },
  {
   "cell_type": "markdown",
   "id": "359631c0",
   "metadata": {},
   "source": [
    "6. Interpolate missing values"
   ]
  },
  {
   "cell_type": "code",
   "execution_count": 67,
   "id": "17a94d4f",
   "metadata": {},
   "outputs": [
    {
     "name": "stdout",
     "output_type": "stream",
     "text": [
      "\n",
      "Interpolate:\n",
      "           A    B     C      D\n",
      "0  0.496714  1.0   foo   True\n",
      "1 -0.138264  2.0   bar  False\n",
      "2  0.647689  3.0   baz   True\n",
      "3  1.523030  4.0   qux  False\n",
      "4 -0.234153  5.0  quux   True\n"
     ]
    }
   ],
   "source": [
    "df_interpolate = df_from_csv.interpolate()\n",
    "print(\"\\nInterpolate:\\n\", df_interpolate)"
   ]
  },
  {
   "cell_type": "markdown",
   "id": "6df4ccba",
   "metadata": {},
   "source": [
    "7. Creating a bool series for NaN values"
   ]
  },
  {
   "cell_type": "code",
   "execution_count": 68,
   "id": "d4b36520",
   "metadata": {},
   "outputs": [
    {
     "name": "stdout",
     "output_type": "stream",
     "text": [
      "\n",
      "Bool Series for NaN Values:\n",
      "        A      B      C      D\n",
      "0  False  False  False  False\n",
      "1  False  False  False  False\n",
      "2  False   True  False  False\n",
      "3  False  False  False  False\n",
      "4  False  False  False  False\n"
     ]
    }
   ],
   "source": [
    "bool_series = df_from_csv.isna()\n",
    "print(\"\\nBool Series for NaN Values:\\n\", bool_series)"
   ]
  },
  {
   "cell_type": "markdown",
   "id": "1bb69f1a",
   "metadata": {},
   "source": [
    "8. Filtering data based on a condition"
   ]
  },
  {
   "cell_type": "code",
   "execution_count": 69,
   "id": "0e5edfb2",
   "metadata": {},
   "outputs": [
    {
     "name": "stdout",
     "output_type": "stream",
     "text": [
      "\n",
      "Filtered Data:\n",
      "           A    B     C      D\n",
      "3  1.523030  4.0   qux  False\n",
      "4 -0.234153  5.0  quux   True\n"
     ]
    }
   ],
   "source": [
    "filtered_data = df_from_csv[df_from_csv['B'] > 2]\n",
    "print(\"\\nFiltered Data:\\n\", filtered_data)"
   ]
  },
  {
   "cell_type": "markdown",
   "id": "fda137f5",
   "metadata": {},
   "source": [
    "9. Creating a DataFrame using a dictionary"
   ]
  },
  {
   "cell_type": "code",
   "execution_count": 70,
   "id": "19573d13",
   "metadata": {},
   "outputs": [
    {
     "name": "stdout",
     "output_type": "stream",
     "text": [
      "\n",
      "New DataFrame from Dictionary:\n",
      "      A  B\n",
      "0  1.0  4\n",
      "1  2.0  5\n",
      "2  3.0  6\n"
     ]
    }
   ],
   "source": [
    "new_data = {'A': [1.0, 2.0, 3.0], 'B': [4, 5, 6]}\n",
    "new_df = pd.DataFrame(new_data)\n",
    "print(\"\\nNew DataFrame from Dictionary:\\n\", new_df)"
   ]
  },
  {
   "cell_type": "markdown",
   "id": "533bc1fe",
   "metadata": {},
   "source": [
    "10. Using notnull() function"
   ]
  },
  {
   "cell_type": "code",
   "execution_count": 71,
   "id": "5b40c038",
   "metadata": {},
   "outputs": [
    {
     "name": "stdout",
     "output_type": "stream",
     "text": [
      "\n",
      "Using notnull() function:\n",
      "       A      B     C     D\n",
      "0  True   True  True  True\n",
      "1  True   True  True  True\n",
      "2  True  False  True  True\n",
      "3  True   True  True  True\n",
      "4  True   True  True  True\n"
     ]
    }
   ],
   "source": [
    "not_null_values = df_from_csv.notnull()\n",
    "print(\"\\nUsing notnull() function:\\n\", not_null_values)"
   ]
  },
  {
   "cell_type": "markdown",
   "id": "e43ed012",
   "metadata": {},
   "source": [
    "11. Filling a missing value"
   ]
  },
  {
   "cell_type": "code",
   "execution_count": 72,
   "id": "e67d81cb",
   "metadata": {},
   "outputs": [
    {
     "name": "stdout",
     "output_type": "stream",
     "text": [
      "\n",
      "Filling a Missing Value:\n",
      " 0    1.0\n",
      "1    2.0\n",
      "2   -1.0\n",
      "3    4.0\n",
      "4    5.0\n",
      "Name: B, dtype: float64\n"
     ]
    }
   ],
   "source": [
    "df_fill_specific_value = df_from_csv['B'].fillna(-1)\n",
    "print(\"\\nFilling a Missing Value:\\n\", df_fill_specific_value)"
   ]
  }
 ],
 "metadata": {
  "kernelspec": {
   "display_name": "Python 3 (ipykernel)",
   "language": "python",
   "name": "python3"
  },
  "language_info": {
   "codemirror_mode": {
    "name": "ipython",
    "version": 3
   },
   "file_extension": ".py",
   "mimetype": "text/x-python",
   "name": "python",
   "nbconvert_exporter": "python",
   "pygments_lexer": "ipython3",
   "version": "3.10.9"
  }
 },
 "nbformat": 4,
 "nbformat_minor": 5
}
